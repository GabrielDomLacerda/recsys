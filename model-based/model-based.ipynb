{
 "cells": [
  {
   "cell_type": "code",
   "execution_count": 8,
   "metadata": {},
   "outputs": [],
   "source": [
    "import pandas as pd\n",
    "import numpy as np\n",
    "import matplotlib.pyplot as plt\n",
    "from tqdm import tqdm"
   ]
  },
  {
   "cell_type": "code",
   "execution_count": 9,
   "metadata": {},
   "outputs": [],
   "source": [
    "ratings = pd.read_csv('../ml-latest-small/ratings.csv')\n",
    "movies = pd.read_csv('../ml-latest-small/movies.csv')"
   ]
  },
  {
   "cell_type": "code",
   "execution_count": 10,
   "metadata": {},
   "outputs": [],
   "source": [
    "def split(df : pd.DataFrame, ratio=0.8):\n",
    "    splited = df.sample(frac=1)\n",
    "    threshold = int(ratio * df.shape[0])\n",
    "    return (splited[:threshold].values, splited[threshold:].values)"
   ]
  },
  {
   "cell_type": "code",
   "execution_count": 11,
   "metadata": {},
   "outputs": [],
   "source": [
    "def mse(pred, res):\n",
    "    return np.mean(np.square(pred - res))\n",
    "\n",
    "def rmse(pred, res):\n",
    "    return np.sqrt(mse(pred, res))\n",
    "\n",
    "def mae(pred, res):\n",
    "    return np.mean(np.abs(pred - res))"
   ]
  },
  {
   "cell_type": "code",
   "execution_count": 12,
   "metadata": {},
   "outputs": [],
   "source": [
    "class SRVD:\n",
    "    def __init__(self, n_latent=2, λ=0.02, Y=0.001, max_iterations=1000) -> None:\n",
    "        self.λ = λ # regularization\n",
    "        self.Y = Y # learning rate\n",
    "        self.max_iterations = max_iterations\n",
    "        self.P = np.array([])\n",
    "        self.Q = np.array([])\n",
    "        self.n_latent = n_latent\n",
    "        pass\n",
    "\n",
    "    def fit(self, rating_df: np.ndarray):\n",
    "        n_users = int(rating_df[:, 0].max())\n",
    "        n_items = int(rating_df[:, 1].max())\n",
    "\n",
    "        self.P = np.random.rand(n_users, self.n_latent)\n",
    "        self.Q = np.random.rand(self.n_latent, n_items) \n",
    "\n",
    "        self.err = np.Inf\n",
    "        for _ in tqdm(range(self.max_iterations)):\n",
    "            self.update(rating_df)\n",
    "            e = self.objective(rating_df)\n",
    "\n",
    "            if e > self.err:\n",
    "                break\n",
    "\n",
    "            self.err = e\n",
    "\n",
    "    def objective(self, rating_df: np.ndarray):\n",
    "        value = 0\n",
    "        for user, item, rating in rating_df:\n",
    "            user = int(user)\n",
    "            item = int(item)\n",
    "\n",
    "            value += ((rating - self.predict(user, item)) ** 2)\n",
    "            value += self.λ * np.power(np.linalg.norm(self.Q[:, item - 1]), 2)\n",
    "            value += self.λ * np.power(np.linalg.norm(self.P[user - 1, :]), 2)\n",
    "        return value\n",
    "    \n",
    "    def update(self, rating_df: np.ndarray):\n",
    "        for user, item, rating in rating_df:\n",
    "            user = int(user)\n",
    "            item = int(item)\n",
    "            \n",
    "            e = rating - self.predict(user, item)\n",
    "\n",
    "            P = self.P[user - 1, :]\n",
    "            Q = self.Q[:, item - 1]\n",
    "\n",
    "            self.P[user - 1, :] += self.Y * (e * Q - self.λ * P)\n",
    "            self.Q[:, item - 1] += self.Y * (e * P - self.λ * Q)\n",
    "\n",
    "    def predict(self, user_id, item_id):\n",
    "        return np.dot(self.P[int(user_id) - 1, :], self.Q[:, int(item_id) - 1])\n",
    "    \n",
    "    def predict_all(self, ratings):\n",
    "        result = np.array([])\n",
    "        for user, item, _ in ratings:\n",
    "            result = np.append(result, self.predict(user, item))\n",
    "        return result"
   ]
  },
  {
   "cell_type": "code",
   "execution_count": 13,
   "metadata": {},
   "outputs": [
    {
     "data": {
      "text/html": [
       "<div>\n",
       "<style scoped>\n",
       "    .dataframe tbody tr th:only-of-type {\n",
       "        vertical-align: middle;\n",
       "    }\n",
       "\n",
       "    .dataframe tbody tr th {\n",
       "        vertical-align: top;\n",
       "    }\n",
       "\n",
       "    .dataframe thead th {\n",
       "        text-align: right;\n",
       "    }\n",
       "</style>\n",
       "<table border=\"1\" class=\"dataframe\">\n",
       "  <thead>\n",
       "    <tr style=\"text-align: right;\">\n",
       "      <th></th>\n",
       "      <th>userId</th>\n",
       "      <th>movieId</th>\n",
       "      <th>rating</th>\n",
       "      <th>timestamp</th>\n",
       "    </tr>\n",
       "  </thead>\n",
       "  <tbody>\n",
       "    <tr>\n",
       "      <th>67037</th>\n",
       "      <td>432</td>\n",
       "      <td>77866</td>\n",
       "      <td>4.5</td>\n",
       "      <td>1335139641</td>\n",
       "    </tr>\n",
       "    <tr>\n",
       "      <th>42175</th>\n",
       "      <td>288</td>\n",
       "      <td>474</td>\n",
       "      <td>3.0</td>\n",
       "      <td>978465565</td>\n",
       "    </tr>\n",
       "    <tr>\n",
       "      <th>93850</th>\n",
       "      <td>599</td>\n",
       "      <td>4351</td>\n",
       "      <td>3.0</td>\n",
       "      <td>1498524542</td>\n",
       "    </tr>\n",
       "    <tr>\n",
       "      <th>6187</th>\n",
       "      <td>42</td>\n",
       "      <td>2987</td>\n",
       "      <td>4.0</td>\n",
       "      <td>996262677</td>\n",
       "    </tr>\n",
       "    <tr>\n",
       "      <th>12229</th>\n",
       "      <td>75</td>\n",
       "      <td>1610</td>\n",
       "      <td>4.0</td>\n",
       "      <td>1158989841</td>\n",
       "    </tr>\n",
       "  </tbody>\n",
       "</table>\n",
       "</div>"
      ],
      "text/plain": [
       "       userId  movieId  rating   timestamp\n",
       "67037     432    77866     4.5  1335139641\n",
       "42175     288      474     3.0   978465565\n",
       "93850     599     4351     3.0  1498524542\n",
       "6187       42     2987     4.0   996262677\n",
       "12229      75     1610     4.0  1158989841"
      ]
     },
     "execution_count": 13,
     "metadata": {},
     "output_type": "execute_result"
    }
   ],
   "source": [
    "sample = ratings.sample(n=2000, random_state=42)\n",
    "sample.head()"
   ]
  },
  {
   "cell_type": "code",
   "execution_count": 14,
   "metadata": {},
   "outputs": [
    {
     "name": "stderr",
     "output_type": "stream",
     "text": [
      "100%|██████████| 100/100 [05:29<00:00,  3.30s/it]\n",
      "100%|██████████| 100/100 [05:43<00:00,  3.43s/it]\n",
      "100%|██████████| 100/100 [05:41<00:00,  3.41s/it]\n",
      "100%|██████████| 100/100 [05:44<00:00,  3.44s/it]\n",
      "100%|██████████| 100/100 [05:45<00:00,  3.46s/it]\n",
      "100%|██████████| 100/100 [05:50<00:00,  3.50s/it]\n",
      "100%|██████████| 100/100 [05:00<00:00,  3.01s/it]\n",
      "100%|██████████| 100/100 [04:14<00:00,  2.55s/it]\n",
      "100%|██████████| 100/100 [04:12<00:00,  2.53s/it]\n",
      "100%|██████████| 100/100 [04:06<00:00,  2.46s/it]\n",
      "100%|██████████| 100/100 [04:07<00:00,  2.48s/it]\n",
      "100%|██████████| 100/100 [04:03<00:00,  2.43s/it]\n",
      "100%|██████████| 100/100 [03:59<00:00,  2.40s/it]\n"
     ]
    }
   ],
   "source": [
    "errors = []\n",
    "rmses = []\n",
    "mses = []\n",
    "maes = []\n",
    "\n",
    "for i in range(2, 15):\n",
    "    srvd = SRVD(n_latent=i, max_iterations=100)\n",
    "    srvd.fit(ratings.values[:, :3])\n",
    "    predicted = srvd.predict_all(sample.values[:, :3])\n",
    "    rmses.append(rmse(predicted, sample.values[:, 2]))\n",
    "    mses.append(mse(predicted, sample.values[:, 2]))\n",
    "    maes.append(mae(predicted, sample.values[:, 2]))\n",
    "    errors.append(srvd.err)"
   ]
  },
  {
   "cell_type": "code",
   "execution_count": 19,
   "metadata": {},
   "outputs": [
    {
     "data": {
      "image/png": "[encoded data removed]",
      "text/plain": [
       "<Figure size 640x480 with 1 Axes>"
      ]
     },
     "metadata": {},
     "output_type": "display_data"
    }
   ],
   "source": [
    "plt.plot(range(2, 15), rmses, label='rmse')\n",
    "plt.plot(range(2, 15), mses, label='mse')\n",
    "plt.plot(range(2, 15), maes, label='mae')\n",
    "plt.legend()\n",
    "plt.show()"
   ]
  }
 ],
 "metadata": {
  "kernelspec": {
   "display_name": "base",
   "language": "python",
   "name": "python3"
  },
  "language_info": {
   "codemirror_mode": {
    "name": "ipython",
    "version": 3
   },
   "file_extension": ".py",
   "mimetype": "text/x-python",
   "name": "python",
   "nbconvert_exporter": "python",
   "pygments_lexer": "ipython3",
   "version": "3.9.13"
  },
  "orig_nbformat": 4
 },
 "nbformat": 4,
 "nbformat_minor": 2
}
