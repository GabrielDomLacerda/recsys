{
 "cells": [
  {
   "cell_type": "code",
   "execution_count": 1,
   "metadata": {},
   "outputs": [],
   "source": [
    "import pandas as pd\n",
    "import numpy as np\n",
    "import matplotlib.pyplot as plt\n",
    "from tqdm import tqdm"
   ]
  },
  {
   "cell_type": "code",
   "execution_count": 2,
   "metadata": {},
   "outputs": [],
   "source": [
    "ratings = pd.read_csv('../ml-latest-small/ratings.csv')\n",
    "movies = pd.read_csv('../ml-latest-small/movies.csv')"
   ]
  },
  {
   "cell_type": "code",
   "execution_count": 3,
   "metadata": {},
   "outputs": [],
   "source": [
    "def split(df : pd.DataFrame, ratio=0.7):\n",
    "    splited = df.sample(frac=1)\n",
    "    threshold = int(ratio * df.shape[0])\n",
    "    return (splited[:threshold], splited[threshold:])"
   ]
  },
  {
   "cell_type": "code",
   "execution_count": 4,
   "metadata": {},
   "outputs": [],
   "source": [
    "def mse(pred, res):\n",
    "    return np.mean(np.square(pred - res))"
   ]
  },
  {
   "cell_type": "code",
   "execution_count": 5,
   "metadata": {},
   "outputs": [],
   "source": [
    "def rmse(pred, res):\n",
    "    return np.sqrt(mse(pred, res))"
   ]
  },
  {
   "cell_type": "code",
   "execution_count": 6,
   "metadata": {},
   "outputs": [],
   "source": [
    "def euclidian_sim(vec_a, vec_b):\n",
    "    return np.linalg.norm(vec_a - vec_b)"
   ]
  },
  {
   "cell_type": "code",
   "execution_count": 7,
   "metadata": {},
   "outputs": [],
   "source": [
    "def cosine_similarity(vec_a, vec_b):\n",
    "    co_rated = np.intersect1d(np.where(np.isnan(vec_a) == False)[0], \n",
    "                              np.where(np.isnan(vec_b) == False)[0])\n",
    "    den = np.sqrt(np.dot(np.nansum(np.square(vec_a)), np.nansum(np.square(vec_b))))\n",
    "    return np.sum(vec_a[co_rated] * vec_b[co_rated]) / den"
   ]
  },
  {
   "cell_type": "code",
   "execution_count": 8,
   "metadata": {},
   "outputs": [],
   "source": [
    "def pearson_similarity(vec_a : np.ndarray, vec_b : np.ndarray):\n",
    "    user_a_mean : float = np.mean(vec_a[np.where(np.isnan(vec_a) == False)[0]])\n",
    "    user_b_mean : float = np.mean(vec_b[np.where(np.isnan(vec_b) == False)[0]])\n",
    "    \n",
    "    adjusted_vec_a = np.nan_to_num(vec_a - user_a_mean)\n",
    "    adjusted_vec_b = np.nan_to_num(vec_b - user_b_mean)\n",
    "\n",
    "    den = np.linalg.norm(adjusted_vec_a) * np.linalg.norm(adjusted_vec_b)\n",
    "    if den == 0:\n",
    "        return den\n",
    "    \n",
    "    return np.dot(adjusted_vec_a, adjusted_vec_b) / den\n",
    "    "
   ]
  },
  {
   "cell_type": "code",
   "execution_count": 9,
   "metadata": {},
   "outputs": [],
   "source": [
    "class KNN:\n",
    "    def __init__(self, similarity_func, k=3, co_rated_min=5, rating_matrix:np.ndarray=np.array([]), similarity_matrix:np.ndarray=np.array([])) -> None:\n",
    "        self.similarity_func = similarity_func\n",
    "        self.k = k\n",
    "        self.co_rated_min = co_rated_min\n",
    "        self.rating_matrix: np.ndarray = rating_matrix\n",
    "        self.similarity_matrix = similarity_matrix\n",
    "\n",
    "    def calculate_rating_matrix(self, rating_df: pd.DataFrame):\n",
    "        n_users = int(rating_df.values[:, 0].max())\n",
    "        n_movies = int(rating_df.values[:, 1].max())\n",
    "        rating_matrix = np.zeros(shape=(n_users, n_movies))\n",
    "        rating_matrix.fill(np.nan)\n",
    "        for tup in rating_df.values[:, :3]:\n",
    "            rating_matrix[int(tup[0] - 1), int(tup[1] - 1)] = tup[2]\n",
    "        return rating_matrix\n",
    "        \n",
    "    def calculate_similarity_matrix(self, rating_matrix: np.ndarray):\n",
    "        matrix = np.zeros(shape=(rating_matrix.shape[0], rating_matrix.shape[0]))\n",
    "        for i in tqdm(range(rating_matrix.shape[0])):\n",
    "            for j in range(i, rating_matrix.shape[0]):\n",
    "                matrix[i, j] = matrix[j, i] = self.similarity_func(rating_matrix[i], rating_matrix[j])\n",
    "        return matrix\n",
    "    \n",
    "    def similarity(self, user_a, user_b):\n",
    "        try:\n",
    "            sim = self.similarity_matrix[user_a, user_b]\n",
    "            return sim if sim != 0 else self.similarity_func(self.rating_matrix[user_a], self.rating_matrix[user_b])\n",
    "        except:\n",
    "            return self.similarity_func(self.rating_matrix[user_a], self.rating_matrix[user_b])\n",
    "\n",
    "    def fit(self, rating_df: pd.DataFrame):\n",
    "        rating_matrix = self.calculate_rating_matrix(rating_df)\n",
    "        similarity_matrix = self.calculate_similarity_matrix(rating_matrix)\n",
    "        return KNN(self.similarity_func, self.k, self.co_rated_min, rating_matrix, similarity_matrix)\n",
    "    \n",
    "    def predict_one(self, user_id, item_id):\n",
    "        neighbours = []\n",
    "        for user in range(self.rating_matrix.shape[0]):\n",
    "            if user_id != user:\n",
    "                co_rated = np.intersect1d(np.where(np.isnan(self.rating_matrix[user_id]) == False)[0], \n",
    "                                            np.where(np.isnan(self.rating_matrix[user]) == False)[0])\n",
    "                if len(co_rated) >= self.co_rated_min:\n",
    "                    neighbours.append((int(user), self.similarity_func(self.rating_matrix[user], self.rating_matrix[user_id])))\n",
    "        users = np.array(neighbours)[:, 0]\n",
    "        co_rated_with_item = [neighbours[k] for k, i in enumerate(users) if not np.isnan(self.rating_matrix[int(i), int(item_id)])]\n",
    "        co_rated_with_item = np.array(sorted(co_rated_with_item, key=lambda x: x[1], reverse=True)[:self.k])\n",
    "        if len(co_rated_with_item) > 0:\n",
    "                rating_user = [self.rating_matrix[int(i)][int(item_id)] for i in co_rated_with_item[:, 0]]\n",
    "                return np.sum(rating_user * co_rated_with_item[:, 1]) / np.sum(co_rated_with_item[:, 1])\n",
    "        else:\n",
    "            return np.nanmean(self.rating_matrix)\n",
    "\n",
    "    def predict_one_user(self, user_id, items_id):\n",
    "        return_ratings = np.array([])\n",
    "        neighbours = []\n",
    "        for user in range(self.rating_matrix.shape[0]):\n",
    "            if user_id != user:\n",
    "                co_rated = np.intersect1d(np.where(np.isnan(self.rating_matrix[user_id]) == False)[0], \n",
    "                                            np.where(np.isnan(self.rating_matrix[user]) == False)[0])\n",
    "                if len(co_rated) >= self.co_rated_min:\n",
    "                    neighbours.append((int(user), self.similarity_func(self.rating_matrix[user], self.rating_matrix[user_id])))\n",
    "        users = np.array(neighbours)[:, 0]\n",
    "        for item in items_id:\n",
    "            co_rated_with_item = [neighbours[k] for k, i in enumerate(users) if not np.isnan(self.rating_matrix[int(i), int(item)])]\n",
    "            co_rated_with_item = np.array(sorted(co_rated_with_item, key=lambda x: x[1], reverse=True)[:self.k])\n",
    "            if len(co_rated_with_item) > 0:\n",
    "                rating_user = [self.rating_matrix[int(i)][int(item)] for i in co_rated_with_item[:, 0]]\n",
    "                new_rating = np.sum(rating_user * co_rated_with_item[:, 1]) / np.sum(co_rated_with_item[:, 1])\n",
    "                return_ratings = np.append(return_ratings, new_rating)\n",
    "            else:\n",
    "                return_ratings = np.append(return_ratings, np.nanmean(self.rating_matrix))\n",
    "        return return_ratings\n",
    "    \n",
    "\n",
    "    def predict(self, rating_df: pd.DataFrame):\n",
    "        rated_values = []\n",
    "        for user_id, item_id,  in tqdm(rating_df.values[:, :2]):\n",
    "            rated_values.append(self.predict_one(int(user_id) - 1, int(item_id) - 1))\n",
    "        return rated_values\n"
   ]
  },
  {
   "cell_type": "code",
   "execution_count": 10,
   "metadata": {},
   "outputs": [
    {
     "data": {
      "text/plain": [
       "(2017, 4)"
      ]
     },
     "execution_count": 10,
     "metadata": {},
     "output_type": "execute_result"
    }
   ],
   "source": [
    "train, test = split(ratings, 0.98)\n",
    "test.shape"
   ]
  },
  {
   "cell_type": "code",
   "execution_count": 12,
   "metadata": {},
   "outputs": [
    {
     "name": "stderr",
     "output_type": "stream",
     "text": [
      "100%|██████████| 610/610 [06:34<00:00,  1.54it/s]\n",
      "100%|██████████| 2017/2017 [43:54<00:00,  1.31s/it]\n",
      "100%|██████████| 610/610 [08:36<00:00,  1.18it/s]\n",
      "100%|██████████| 2017/2017 [1:00:11<00:00,  1.79s/it]\n",
      "100%|██████████| 610/610 [06:49<00:00,  1.49it/s]\n",
      "100%|██████████| 2017/2017 [42:12<00:00,  1.26s/it]\n",
      "100%|██████████| 610/610 [08:29<00:00,  1.20it/s]\n",
      "100%|██████████| 2017/2017 [1:00:01<00:00,  1.79s/it]\n",
      "100%|██████████| 610/610 [07:30<00:00,  1.35it/s]\n",
      "100%|██████████| 2017/2017 [43:24<00:00,  1.29s/it]\n",
      "100%|██████████| 610/610 [08:32<00:00,  1.19it/s]\n",
      "100%|██████████| 2017/2017 [54:55<00:00,  1.63s/it] \n",
      "100%|██████████| 610/610 [07:03<00:00,  1.44it/s]\n",
      "100%|██████████| 2017/2017 [46:25<00:00,  1.38s/it]\n",
      "100%|██████████| 610/610 [09:21<00:00,  1.09it/s]\n",
      "100%|██████████| 2017/2017 [1:03:06<00:00,  1.88s/it]\n"
     ]
    }
   ],
   "source": [
    "rmse_cos = []\n",
    "mse_cos = []\n",
    "\n",
    "rmse_pearson = []\n",
    "mse_pearson = []\n",
    "\n",
    "for k in range(3, 10, 2):\n",
    "    knn_cos = KNN(cosine_similarity, k=k).fit(train)\n",
    "    predicted_cos = knn_cos.predict(test)\n",
    "    rmse_cos.append(rmse(predicted_cos, test.values[:, 2]))\n",
    "    mse_cos.append(mse(predicted_cos, test.values[:, 2]))\n",
    "\n",
    "    knn_pearson = KNN(pearson_similarity, k=k).fit(train)\n",
    "    predicted_pearson = knn_pearson.predict(test)\n",
    "    rmse_pearson.append(rmse(predicted_pearson, test.values[:, 2]))\n",
    "    mse_pearson.append(mse(predicted_pearson, test.values[:, 2]))"
   ]
  },
  {
   "cell_type": "code",
   "execution_count": 16,
   "metadata": {},
   "outputs": [
    {
     "data": {
      "image/png": "[encoded data removed]",
      "text/plain": [
       "<Figure size 640x480 with 1 Axes>"
      ]
     },
     "metadata": {},
     "output_type": "display_data"
    }
   ],
   "source": [
    "plt.plot(range(3, 10, 2), rmse_cos, label='rmse_cos')\n",
    "plt.plot(range(3, 10, 2), rmse_pearson, label='rmse_pearson')\n",
    "plt.plot(range(3, 10, 2), mse_cos, label='mse_cos')\n",
    "plt.plot(range(3, 10, 2), mse_pearson, label='mse_pearson')\n",
    "plt.legend(loc='best')\n",
    "plt.show()"
   ]
  }
 ],
 "metadata": {
  "kernelspec": {
   "display_name": "base",
   "language": "python",
   "name": "python3"
  },
  "language_info": {
   "codemirror_mode": {
    "name": "ipython",
    "version": 3
   },
   "file_extension": ".py",
   "mimetype": "text/x-python",
   "name": "python",
   "nbconvert_exporter": "python",
   "pygments_lexer": "ipython3",
   "version": "3.9.13"
  },
  "orig_nbformat": 4
 },
 "nbformat": 4,
 "nbformat_minor": 2
}
